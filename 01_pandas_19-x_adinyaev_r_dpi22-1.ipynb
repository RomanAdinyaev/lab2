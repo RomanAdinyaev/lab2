{
 "cells": [
  {
   "cell_type": "markdown",
   "metadata": {},
   "source": [
    "# Pandas"
   ]
  },
  {
   "cell_type": "markdown",
   "metadata": {},
   "source": [
    "Материалы:\n",
    "* Макрушин С.В. \"Лекция 2: Библиотека Pandas\"\n",
    "* https://pandas.pydata.org/docs/user_guide/index.html#\n",
    "* https://pandas.pydata.org/docs/reference/index.html\n",
    "* Уэс Маккини. Python и анализ данных"
   ]
  },
  {
   "cell_type": "markdown",
   "metadata": {},
   "source": [
    "## Задачи для совместного разбора"
   ]
  },
  {
   "cell_type": "markdown",
   "metadata": {},
   "source": [
    "1. Загрузите данные из файла `sp500hst.txt` и обозначьте столбцы в соответствии с содержимым: `\"date\", \"ticker\", \"open\", \"high\", \"low\", \"close\", \"volume\"`."
   ]
  },
  {
   "cell_type": "code",
   "execution_count": 18,
   "metadata": {},
   "outputs": [
    {
     "name": "stdout",
     "output_type": "stream",
     "text": [
      "            date ticker   open     high     low  close  volume\n",
      "0       20090821      A  25.60  25.6100  25.220  25.55   34758\n",
      "1       20090824      A  25.64  25.7400  25.330  25.50   22247\n",
      "2       20090825      A  25.50  25.7000  25.225  25.34   30891\n",
      "3       20090826      A  25.32  25.6425  25.145  25.48   33334\n",
      "4       20090827      A  25.50  25.5700  25.230  25.54   70176\n",
      "...          ...    ...    ...      ...     ...    ...     ...\n",
      "122569  20100813    ZMH  51.72  51.9000  51.380  51.44   14561\n",
      "122570  20100816    ZMH  51.13  51.4700  50.600  51.00   13489\n",
      "122571  20100817    ZMH  51.14  51.6000  50.890  51.21   20498\n",
      "122572  20100819    ZMH  51.63  51.6300  50.170  50.22   18259\n",
      "122573  20100820    ZMH  50.03  50.5500  49.480  49.82   17792\n",
      "\n",
      "[122574 rows x 7 columns]\n"
     ]
    }
   ],
   "source": [
    "import pandas as pd\n",
    "import numpy as np\n",
    "\n",
    "my_df = pd.read_csv('data/sp500hst.txt',sep=',',header=None,names=[\"date\", \"ticker\", \"open\", \"high\", \"low\", \"close\", \"volume\"])\n",
    "\n",
    "print(my_df)"
   ]
  },
  {
   "cell_type": "markdown",
   "metadata": {},
   "source": [
    "2. Рассчитайте среднее значение показателей для каждого из столбцов c номерами 3-6."
   ]
  },
  {
   "cell_type": "code",
   "execution_count": 19,
   "metadata": {},
   "outputs": [
    {
     "name": "stdout",
     "output_type": "stream",
     "text": [
      "[42.59545766 43.10224339 42.05446367 42.60186485]\n"
     ]
    }
   ],
   "source": [
    "avg_open_close = np.average(my_df[[\"open\", \"high\", \"low\", \"close\"]],axis=0)\n",
    "\n",
    "print(avg_open_close)"
   ]
  },
  {
   "cell_type": "markdown",
   "metadata": {},
   "source": [
    "3. Добавьте столбец, содержащий только число месяца, к которому относится дата."
   ]
  },
  {
   "cell_type": "code",
   "execution_count": 20,
   "metadata": {},
   "outputs": [
    {
     "name": "stdout",
     "output_type": "stream",
     "text": [
      "0         8\n",
      "1         8\n",
      "2         8\n",
      "3         8\n",
      "4         8\n",
      "         ..\n",
      "122569    8\n",
      "122570    8\n",
      "122571    8\n",
      "122572    8\n",
      "122573    8\n",
      "Name: month, Length: 122574, dtype: int64\n"
     ]
    }
   ],
   "source": [
    "my_df['month'] = my_df['date']//100 % 100\n",
    "\n",
    "print(my_df['month'])"
   ]
  },
  {
   "cell_type": "markdown",
   "metadata": {},
   "source": [
    "4. Рассчитайте суммарный объем торгов для для одинаковых значений тикеров."
   ]
  },
  {
   "cell_type": "code",
   "execution_count": 21,
   "metadata": {},
   "outputs": [
    {
     "name": "stdout",
     "output_type": "stream",
     "text": [
      "ticker\n",
      "A        8609336\n",
      "AA      81898998\n",
      "AAPL    52261170\n",
      "ABC      9006756\n",
      "ABT     18975870\n",
      "          ...   \n",
      "XTO     21297931\n",
      "YHOO    56837171\n",
      "YUM     10971538\n",
      "ZION    15551119\n",
      "ZMH      4938916\n",
      "Name: volume, Length: 524, dtype: int64\n"
     ]
    }
   ],
   "source": [
    "grouped = my_df.groupby('ticker').sum()['volume']\n",
    "\n",
    "print(grouped)"
   ]
  },
  {
   "cell_type": "markdown",
   "metadata": {},
   "source": [
    "5. Загрузите данные из файла sp500hst.txt и обозначьте столбцы в соответствии с содержимым: \"date\", \"ticker\", \"open\", \"high\", \"low\", \"close\", \"volume\". Добавьте столбец с расшифровкой названия тикера, используя данные из файла `sp_data2.csv` . В случае нехватки данных об именах тикеров корректно обработать их."
   ]
  },
  {
   "cell_type": "code",
   "execution_count": 22,
   "metadata": {},
   "outputs": [
    {
     "name": "stdout",
     "output_type": "stream",
     "text": [
      "           date ticker   open     high     low  close  volume  \\\n",
      "0      20090821      A  25.60  25.6100  25.220  25.55   34758   \n",
      "1      20090824      A  25.64  25.7400  25.330  25.50   22247   \n",
      "2      20090825      A  25.50  25.7000  25.225  25.34   30891   \n",
      "3      20090826      A  25.32  25.6425  25.145  25.48   33334   \n",
      "4      20090827      A  25.50  25.5700  25.230  25.54   70176   \n",
      "...         ...    ...    ...      ...     ...    ...     ...   \n",
      "82167  20100813   ZION  20.17  20.4300  19.840  19.89   25193   \n",
      "82168  20100816   ZION  19.81  19.9600  19.600  19.95   25914   \n",
      "82169  20100817   ZION  20.07  20.4700  19.830  20.31   31717   \n",
      "82170  20100819   ZION  19.83  20.0000  19.130  19.35   45935   \n",
      "82171  20100820   ZION  19.15  19.2700  18.810  19.14   37225   \n",
      "\n",
      "            name of company  \n",
      "0      Agilent Technologies  \n",
      "1      Agilent Technologies  \n",
      "2      Agilent Technologies  \n",
      "3      Agilent Technologies  \n",
      "4      Agilent Technologies  \n",
      "...                     ...  \n",
      "82167         Zions Bancorp  \n",
      "82168         Zions Bancorp  \n",
      "82169         Zions Bancorp  \n",
      "82170         Zions Bancorp  \n",
      "82171         Zions Bancorp  \n",
      "\n",
      "[82172 rows x 8 columns]\n"
     ]
    }
   ],
   "source": [
    "my_df,companies = pd.read_csv('data/sp500hst.txt',sep=',',header=None,names=[\"date\", \"ticker\", \"open\", \"high\", \"low\", \"close\", \"volume\"]),pd.read_csv('data/sp_data2.csv',sep=';',header=None,names=['ticker','name of company','smth'])\n",
    "\n",
    "result = pd.merge(my_df,companies[['ticker','name of company']],on='ticker')\n",
    "\n",
    "print(result)"
   ]
  },
  {
   "cell_type": "markdown",
   "metadata": {},
   "source": [
    "## Лабораторная работа №2"
   ]
  },
  {
   "cell_type": "markdown",
   "metadata": {},
   "source": [
    "### Базовые операции с `DataFrame`"
   ]
  },
  {
   "cell_type": "markdown",
   "metadata": {},
   "source": [
    "1.1 В файлах `recipes_sample.csv` и `reviews_sample.csv` находится информация об рецептах блюд и отзывах на эти рецепты соответственно. Загрузите данные из файлов в виде `pd.DataFrame` с названиями `recipes` и `reviews`. Обратите внимание на корректное считывание столбца с индексами в таблице `reviews` (безымянный столбец)."
   ]
  },
  {
   "cell_type": "code",
   "execution_count": 23,
   "metadata": {},
   "outputs": [
    {
     "name": "stdout",
     "output_type": "stream",
     "text": [
      "                                               name      id  minutes  \\\n",
      "0             george s at the cove  black bean soup   44123       90   \n",
      "1                healthy for them  yogurt popsicles   67664       10   \n",
      "2                      i can t believe it s spinach   38798       30   \n",
      "3                              italian  gut busters   35173       45   \n",
      "4          love is in the air  beef fondue   sauces   84797       25   \n",
      "...                                             ...     ...      ...   \n",
      "29995  zurie s holey rustic olive and cheddar bread  267661       80   \n",
      "29996          zwetschgenkuchen  bavarian plum cake  386977      240   \n",
      "29997   zwiebelkuchen   southwest german onion cake  103312       75   \n",
      "29998                                   zydeco soup  486161       60   \n",
      "29999        cookies by design   cookies on a stick  298512       29   \n",
      "\n",
      "       contributor_id   submitted  n_steps  \\\n",
      "0               35193  2002-10-25      NaN   \n",
      "1               91970  2003-07-26      NaN   \n",
      "2                1533  2002-08-29      NaN   \n",
      "3               22724  2002-07-27      NaN   \n",
      "4                4470  2004-02-23      4.0   \n",
      "...               ...         ...      ...   \n",
      "29995          200862  2007-11-25     16.0   \n",
      "29996          177443  2009-08-24      NaN   \n",
      "29997          161745  2004-11-03      NaN   \n",
      "29998          227978  2012-08-29      NaN   \n",
      "29999          506822  2008-04-15      9.0   \n",
      "\n",
      "                                             description  n_ingredients  \n",
      "0      an original recipe created by chef scott meska...           18.0  \n",
      "1      my children and their friends ask for my homem...            NaN  \n",
      "2                these were so go, it surprised even me.            8.0  \n",
      "3      my sister-in-law made these for us at a family...            NaN  \n",
      "4      i think a fondue is a very romantic casual din...            NaN  \n",
      "...                                                  ...            ...  \n",
      "29995  this is based on a french recipe but i changed...           10.0  \n",
      "29996  this is a traditional fresh plum cake, thought...           11.0  \n",
      "29997  this is a traditional late summer early fall s...            NaN  \n",
      "29998  this is a delicious soup that i originally fou...            NaN  \n",
      "29999  i've heard of the 'cookies by design' company,...           10.0  \n",
      "\n",
      "[30000 rows x 8 columns]\n",
      "\n",
      "        Unnamed: 0     user_id  recipe_id        date  rating  \\\n",
      "0           370476       21752      57993  2003-05-01       5   \n",
      "1           624300      431813     142201  2007-09-16       5   \n",
      "2           187037      400708     252013  2008-01-10       4   \n",
      "3           706134  2001852463     404716  2017-12-11       5   \n",
      "4           312179       95810     129396  2008-03-14       5   \n",
      "...            ...         ...        ...         ...     ...   \n",
      "126691     1013457     1270706     335534  2009-05-17       4   \n",
      "126692      158736     2282344       8701  2012-06-03       0   \n",
      "126693     1059834      689540     222001  2008-04-08       5   \n",
      "126694      453285  2000242659     354979  2015-06-02       5   \n",
      "126695      691207      463435     415599  2010-09-30       5   \n",
      "\n",
      "                                                   review  \n",
      "0       Last week whole sides of frozen salmon fillet ...  \n",
      "1       So simple and so tasty!  I used a yellow capsi...  \n",
      "2       Very nice breakfast HH, easy to make and yummy...  \n",
      "3       These are a favorite for the holidays and so e...  \n",
      "4       Excellent soup!  The tomato flavor is just gre...  \n",
      "...                                                   ...  \n",
      "126691  This recipe was great! I made it last night. I...  \n",
      "126692  This recipe is outstanding. I followed the rec...  \n",
      "126693  Well, we were not a crowd but it was a fabulou...  \n",
      "126694  I have been a steak eater and dedicated BBQ gr...  \n",
      "126695  Wonderful and simple to prepare seasoning blen...  \n",
      "\n",
      "[126696 rows x 6 columns]\n"
     ]
    }
   ],
   "source": [
    "recipes,reviews = pd.read_csv('data/recipes_sample.csv',sep=',',header=0,engine='python'),pd.read_csv('data/reviews_sample.csv',sep=',',header=0)\n",
    "\n",
    "print(recipes,reviews,sep='\\n\\n')"
   ]
  },
  {
   "cell_type": "markdown",
   "metadata": {},
   "source": [
    "1.2 Для каждой из таблиц выведите основные параметры:\n",
    "* количество точек данных (строк);\n",
    "* количество столбцов;\n",
    "* тип данных каждого столбца."
   ]
  },
  {
   "cell_type": "code",
   "execution_count": 24,
   "metadata": {},
   "outputs": [
    {
     "name": "stdout",
     "output_type": "stream",
     "text": [
      "\n",
      "nrows for recipes: 30000\n",
      "ncols for recipes: 8\n",
      "dtype for each col:\n",
      " name               object\n",
      "id                  int64\n",
      "minutes             int64\n",
      "contributor_id      int64\n",
      "submitted          object\n",
      "n_steps           float64\n",
      "description        object\n",
      "n_ingredients     float64\n",
      "dtype: object\n",
      "\n",
      "\n",
      "nrows for reviews: 126696\n",
      "ncols for reviews: 6\n",
      "dtype for each col:\n",
      " Unnamed: 0     int64\n",
      "user_id        int64\n",
      "recipe_id      int64\n",
      "date          object\n",
      "rating         int64\n",
      "review        object\n",
      "dtype: object\n",
      "\n"
     ]
    }
   ],
   "source": [
    "print(f'''\n",
    "nrows for recipes: {recipes.shape[0]}\n",
    "ncols for recipes: {recipes.shape[1]}\n",
    "dtype for each col:\\n {recipes.dtypes}\n",
    "\n",
    "\n",
    "nrows for reviews: {reviews.shape[0]}\n",
    "ncols for reviews: {reviews.shape[1]}\n",
    "dtype for each col:\\n {reviews.dtypes}\n",
    "''')"
   ]
  },
  {
   "cell_type": "markdown",
   "metadata": {},
   "source": [
    "1.3 Исследуйте, в каких столбцах таблиц содержатся пропуски. Посчитайте долю строк, содержащих пропуски, в отношении к общему количеству строк."
   ]
  },
  {
   "cell_type": "code",
   "execution_count": 25,
   "metadata": {},
   "outputs": [
    {
     "name": "stdout",
     "output_type": "stream",
     "text": [
      "\n",
      "columns with Na in recipes : Index(['n_steps', 'description', 'n_ingredients'], dtype='object')\n",
      "columns with Na in reviews : Index(['review'], dtype='object')\n",
      "\n",
      "rows with Na to all rows in recipes : 0.5684666666666667\n",
      "rows with Na to all rows in reviews : 0.00013417945317926376\n",
      "\n"
     ]
    }
   ],
   "source": [
    "rec_col,rev_col = pd.isna(recipes).any(axis=0), pd.isna(reviews).any(axis=0)\n",
    "rec_row,rev_row = pd.isna(recipes).any(axis=1), pd.isna(reviews).any(axis=1)\n",
    "\n",
    "print(f'''\n",
    "columns with Na in recipes : {recipes.columns[rec_col]}\n",
    "columns with Na in reviews : {reviews.columns[rev_col]}\n",
    "\n",
    "rows with Na to all rows in recipes : {recipes.index[rec_row].size/recipes.index.size}\n",
    "rows with Na to all rows in reviews : {reviews.index[rev_row].size/reviews.index.size}\n",
    "''')\n",
    "\n",
    "\n",
    "# print(recipes.index[rec_row].size,reviews.index[rev_row].size,sep='\\n')"
   ]
  },
  {
   "cell_type": "markdown",
   "metadata": {},
   "source": [
    "1.4 Рассчитайте среднее значение для каждого из числовых столбцов (где это имеет смысл)."
   ]
  },
  {
   "cell_type": "code",
   "execution_count": 26,
   "metadata": {},
   "outputs": [
    {
     "name": "stdout",
     "output_type": "stream",
     "text": [
      "minutes          123.358133\n",
      "n_steps            9.805582\n",
      "n_ingredients      9.008286\n",
      "dtype: float64\n"
     ]
    }
   ],
   "source": [
    "mean = recipes[['minutes','n_steps','n_ingredients']].mean(skipna=True)\n",
    "print(mean)"
   ]
  },
  {
   "cell_type": "markdown",
   "metadata": {},
   "source": [
    "1.5 Создайте серию из 10 случайных названий рецептов."
   ]
  },
  {
   "cell_type": "code",
   "execution_count": 27,
   "metadata": {},
   "outputs": [
    {
     "name": "stdout",
     "output_type": "stream",
     "text": [
      "22935    romano s macaroni grill penne rustica by todd ...\n",
      "16803           malva pudding  south african baked dessert\n",
      "14133                           hot and sour cabbage salad\n",
      "23535                      sauteed red cabbage with apples\n",
      "28668                                   vegetable parcells\n",
      "13680                  herbed pork chops in mushroom sauce\n",
      "9836                        easy banana pudding cheesecake\n",
      "5596                     chicken and mushrooms with cheese\n",
      "23389                                     sauced crab ball\n",
      "10792                          fast chinese cucumber salad\n",
      "Name: name, dtype: object\n"
     ]
    }
   ],
   "source": [
    "rands = recipes['name'].sample(n=10,replace=False)\n",
    "\n",
    "print(rands)"
   ]
  },
  {
   "cell_type": "markdown",
   "metadata": {},
   "source": [
    "1.6 Измените индекс в таблице `reviews`, пронумеровав строки, начиная с нуля."
   ]
  },
  {
   "cell_type": "code",
   "execution_count": 28,
   "metadata": {},
   "outputs": [],
   "source": [
    "#так ведь они и так с нуля нумеруются вроде"
   ]
  },
  {
   "cell_type": "markdown",
   "metadata": {},
   "source": [
    "1.7 Выведите информацию о рецептах, время выполнения которых не больше 20 минут и кол-во ингредиентов в которых не больше 5."
   ]
  },
  {
   "cell_type": "code",
   "execution_count": 29,
   "metadata": {},
   "outputs": [
    {
     "name": "stdout",
     "output_type": "stream",
     "text": [
      "                                                    name      id  minutes  \\\n",
      "28                                   quick biscuit bread  302399       20   \n",
      "60                         peas  fit for a king or queen  303944       20   \n",
      "90                     hawaiian sunrise           mimosa  100837        5   \n",
      "91            tasty dish s   banana pudding in 2 minutes  286484        2   \n",
      "94                                    1 minute meatballs   11361       13   \n",
      "...                                                  ...     ...      ...   \n",
      "29873  zip and steam red potatoes with butter and garlic  304922       13   \n",
      "29874                          ziplock vanilla ice cream   74250       10   \n",
      "29905                      zucchini and corn with cheese  256177       15   \n",
      "29980               zucchini with jalapeno monterey jack  320622       10   \n",
      "29983                          zucchini with serrano ham  162411       15   \n",
      "\n",
      "       contributor_id   submitted  n_steps  \\\n",
      "28             213909  2008-05-06     11.0   \n",
      "60             213909  2008-05-16      NaN   \n",
      "90              58104  2004-09-29      4.0   \n",
      "91              47892  2008-02-13      NaN   \n",
      "94               4470  2001-09-03      NaN   \n",
      "...               ...         ...      ...   \n",
      "29873          724218  2008-05-27      9.0   \n",
      "29874           24386  2003-10-29      8.0   \n",
      "29905          305531  2007-09-29      4.0   \n",
      "29980          305531  2008-08-20      3.0   \n",
      "29983          152500  2006-03-31      6.0   \n",
      "\n",
      "                                             description  n_ingredients  \n",
      "28     this is a wonderful quick bread to make as an ...            5.0  \n",
      "60     this recipe is so simple and the flavors are s...            5.0  \n",
      "90     pineapple mimosa was changed to hawaiian sunri...            3.0  \n",
      "91     \"mmmm, i love bananas!\" a --tasty dish-- origi...            4.0  \n",
      "94     this is a real short cut for cooks in a hurry....            2.0  \n",
      "...                                                  ...            ...  \n",
      "29873  i haven't tried this yet, but i am going to so...            5.0  \n",
      "29874  a fun thing for kids to do. may want to use mi...            3.0  \n",
      "29905  from betty crocker fresh spring recipes. i lik...            5.0  \n",
      "29980                                  simple and yummy!            3.0  \n",
      "29983  this dish is from tim malzer, a german chef wh...            5.0  \n",
      "\n",
      "[2019 rows x 8 columns]\n"
     ]
    }
   ],
   "source": [
    "interm = recipes[recipes['minutes']<=20 ]\n",
    "quickies = interm[interm['n_ingredients']<=5]\n",
    "\n",
    "print(quickies)"
   ]
  },
  {
   "cell_type": "markdown",
   "metadata": {},
   "source": [
    "### Работа с датами в `pandas`"
   ]
  },
  {
   "cell_type": "markdown",
   "metadata": {},
   "source": [
    "2.1 Преобразуйте столбец `submitted` из таблицы `recipes` в формат времени. Модифицируйте решение задачи 1.1 так, чтобы считать столбец сразу в нужном формате."
   ]
  },
  {
   "cell_type": "code",
   "execution_count": 30,
   "metadata": {},
   "outputs": [
    {
     "name": "stdout",
     "output_type": "stream",
     "text": [
      "                                               name      id  minutes  \\\n",
      "0             george s at the cove  black bean soup   44123       90   \n",
      "1                healthy for them  yogurt popsicles   67664       10   \n",
      "2                      i can t believe it s spinach   38798       30   \n",
      "3                              italian  gut busters   35173       45   \n",
      "4          love is in the air  beef fondue   sauces   84797       25   \n",
      "...                                             ...     ...      ...   \n",
      "29995  zurie s holey rustic olive and cheddar bread  267661       80   \n",
      "29996          zwetschgenkuchen  bavarian plum cake  386977      240   \n",
      "29997   zwiebelkuchen   southwest german onion cake  103312       75   \n",
      "29998                                   zydeco soup  486161       60   \n",
      "29999        cookies by design   cookies on a stick  298512       29   \n",
      "\n",
      "       contributor_id  submitted  n_steps  \\\n",
      "0               35193 2002-10-25      NaN   \n",
      "1               91970 2003-07-26      NaN   \n",
      "2                1533 2002-08-29      NaN   \n",
      "3               22724 2002-07-27      NaN   \n",
      "4                4470 2004-02-23      4.0   \n",
      "...               ...        ...      ...   \n",
      "29995          200862 2007-11-25     16.0   \n",
      "29996          177443 2009-08-24      NaN   \n",
      "29997          161745 2004-11-03      NaN   \n",
      "29998          227978 2012-08-29      NaN   \n",
      "29999          506822 2008-04-15      9.0   \n",
      "\n",
      "                                             description  n_ingredients  \n",
      "0      an original recipe created by chef scott meska...           18.0  \n",
      "1      my children and their friends ask for my homem...            NaN  \n",
      "2                these were so go, it surprised even me.            8.0  \n",
      "3      my sister-in-law made these for us at a family...            NaN  \n",
      "4      i think a fondue is a very romantic casual din...            NaN  \n",
      "...                                                  ...            ...  \n",
      "29995  this is based on a french recipe but i changed...           10.0  \n",
      "29996  this is a traditional fresh plum cake, thought...           11.0  \n",
      "29997  this is a traditional late summer early fall s...            NaN  \n",
      "29998  this is a delicious soup that i originally fou...            NaN  \n",
      "29999  i've heard of the 'cookies by design' company,...           10.0  \n",
      "\n",
      "[30000 rows x 8 columns]\n",
      "name                      object\n",
      "id                         int64\n",
      "minutes                    int64\n",
      "contributor_id             int64\n",
      "submitted         datetime64[ns]\n",
      "n_steps                  float64\n",
      "description               object\n",
      "n_ingredients            float64\n",
      "dtype: object\n",
      "                                               name      id  minutes  \\\n",
      "0             george s at the cove  black bean soup   44123       90   \n",
      "1                healthy for them  yogurt popsicles   67664       10   \n",
      "2                      i can t believe it s spinach   38798       30   \n",
      "3                              italian  gut busters   35173       45   \n",
      "4          love is in the air  beef fondue   sauces   84797       25   \n",
      "...                                             ...     ...      ...   \n",
      "29995  zurie s holey rustic olive and cheddar bread  267661       80   \n",
      "29996          zwetschgenkuchen  bavarian plum cake  386977      240   \n",
      "29997   zwiebelkuchen   southwest german onion cake  103312       75   \n",
      "29998                                   zydeco soup  486161       60   \n",
      "29999        cookies by design   cookies on a stick  298512       29   \n",
      "\n",
      "       contributor_id  submitted  n_steps  \\\n",
      "0               35193 2002-10-25      NaN   \n",
      "1               91970 2003-07-26      NaN   \n",
      "2                1533 2002-08-29      NaN   \n",
      "3               22724 2002-07-27      NaN   \n",
      "4                4470 2004-02-23      4.0   \n",
      "...               ...        ...      ...   \n",
      "29995          200862 2007-11-25     16.0   \n",
      "29996          177443 2009-08-24      NaN   \n",
      "29997          161745 2004-11-03      NaN   \n",
      "29998          227978 2012-08-29      NaN   \n",
      "29999          506822 2008-04-15      9.0   \n",
      "\n",
      "                                             description  n_ingredients  \n",
      "0      an original recipe created by chef scott meska...           18.0  \n",
      "1      my children and their friends ask for my homem...            NaN  \n",
      "2                these were so go, it surprised even me.            8.0  \n",
      "3      my sister-in-law made these for us at a family...            NaN  \n",
      "4      i think a fondue is a very romantic casual din...            NaN  \n",
      "...                                                  ...            ...  \n",
      "29995  this is based on a french recipe but i changed...           10.0  \n",
      "29996  this is a traditional fresh plum cake, thought...           11.0  \n",
      "29997  this is a traditional late summer early fall s...            NaN  \n",
      "29998  this is a delicious soup that i originally fou...            NaN  \n",
      "29999  i've heard of the 'cookies by design' company,...           10.0  \n",
      "\n",
      "[30000 rows x 8 columns]\n",
      "name                      object\n",
      "id                         int64\n",
      "minutes                    int64\n",
      "contributor_id             int64\n",
      "submitted         datetime64[ns]\n",
      "n_steps                  float64\n",
      "description               object\n",
      "n_ingredients            float64\n",
      "dtype: object\n"
     ]
    }
   ],
   "source": [
    "recipes['submitted'] = pd.to_datetime(recipes['submitted'])\n",
    "\n",
    "print(recipes,recipes.dtypes,sep='\\n')\n",
    "\n",
    "recipes = pd.read_csv('data/recipes_sample.csv',sep=',',header=0,parse_dates = ['submitted'])\n",
    "\n",
    "print(recipes,recipes.dtypes,sep='\\n')"
   ]
  },
  {
   "cell_type": "markdown",
   "metadata": {},
   "source": [
    "2.2 Выведите информацию о рецептах, добавленных в датасет не позже 2010 года."
   ]
  },
  {
   "cell_type": "code",
   "execution_count": 31,
   "metadata": {},
   "outputs": [
    {
     "name": "stdout",
     "output_type": "stream",
     "text": [
      "                                               name      id  minutes  \\\n",
      "0             george s at the cove  black bean soup   44123       90   \n",
      "1                healthy for them  yogurt popsicles   67664       10   \n",
      "2                      i can t believe it s spinach   38798       30   \n",
      "3                              italian  gut busters   35173       45   \n",
      "4          love is in the air  beef fondue   sauces   84797       25   \n",
      "...                                             ...     ...      ...   \n",
      "29993                     zuni caf zucchini pickles  316950     2895   \n",
      "29995  zurie s holey rustic olive and cheddar bread  267661       80   \n",
      "29996          zwetschgenkuchen  bavarian plum cake  386977      240   \n",
      "29997   zwiebelkuchen   southwest german onion cake  103312       75   \n",
      "29999        cookies by design   cookies on a stick  298512       29   \n",
      "\n",
      "       contributor_id  submitted  n_steps  \\\n",
      "0               35193 2002-10-25      NaN   \n",
      "1               91970 2003-07-26      NaN   \n",
      "2                1533 2002-08-29      NaN   \n",
      "3               22724 2002-07-27      NaN   \n",
      "4                4470 2004-02-23      4.0   \n",
      "...               ...        ...      ...   \n",
      "29993           62264 2008-07-31      NaN   \n",
      "29995          200862 2007-11-25     16.0   \n",
      "29996          177443 2009-08-24      NaN   \n",
      "29997          161745 2004-11-03      NaN   \n",
      "29999          506822 2008-04-15      9.0   \n",
      "\n",
      "                                             description  n_ingredients  \n",
      "0      an original recipe created by chef scott meska...           18.0  \n",
      "1      my children and their friends ask for my homem...            NaN  \n",
      "2                these were so go, it surprised even me.            8.0  \n",
      "3      my sister-in-law made these for us at a family...            NaN  \n",
      "4      i think a fondue is a very romantic casual din...            NaN  \n",
      "...                                                  ...            ...  \n",
      "29993  refrigerator pickles for some of the zucchini ...            8.0  \n",
      "29995  this is based on a french recipe but i changed...           10.0  \n",
      "29996  this is a traditional fresh plum cake, thought...           11.0  \n",
      "29997  this is a traditional late summer early fall s...            NaN  \n",
      "29999  i've heard of the 'cookies by design' company,...           10.0  \n",
      "\n",
      "[27661 rows x 8 columns]\n"
     ]
    }
   ],
   "source": [
    "before_2010 = recipes[recipes['submitted']<=pd.to_datetime('2010-12-31')]\n",
    "\n",
    "print(before_2010)\n"
   ]
  },
  {
   "cell_type": "markdown",
   "metadata": {},
   "source": [
    "### Работа со строковыми данными в `pandas`"
   ]
  },
  {
   "cell_type": "markdown",
   "metadata": {},
   "source": [
    "3.1  Добавьте в таблицу `recipes` столбец `description_length`, в котором хранится длина описания рецепта из столбца `description`."
   ]
  },
  {
   "cell_type": "code",
   "execution_count": 32,
   "metadata": {},
   "outputs": [
    {
     "name": "stdout",
     "output_type": "stream",
     "text": [
      "0        330.0\n",
      "1        255.0\n",
      "2         39.0\n",
      "3        154.0\n",
      "4        587.0\n",
      "         ...  \n",
      "29995    484.0\n",
      "29996    286.0\n",
      "29997    311.0\n",
      "29998    648.0\n",
      "29999    125.0\n",
      "Name: description_length, Length: 30000, dtype: float64\n"
     ]
    }
   ],
   "source": [
    "recipes['description_length'] = recipes['description'].str.len()\n",
    "print(recipes['description_length'])"
   ]
  },
  {
   "cell_type": "markdown",
   "metadata": {},
   "source": [
    "3.2 Измените название каждого рецепта в таблице `recipes` таким образом, чтобы каждое слово в названии начиналось с прописной буквы."
   ]
  },
  {
   "cell_type": "code",
   "execution_count": 33,
   "metadata": {},
   "outputs": [
    {
     "name": "stdout",
     "output_type": "stream",
     "text": [
      "0               George S At The Cove  Black Bean Soup\n",
      "1                  Healthy For Them  Yogurt Popsicles\n",
      "2                        I Can T Believe It S Spinach\n",
      "3                                Italian  Gut Busters\n",
      "4            Love Is In The Air  Beef Fondue   Sauces\n",
      "                             ...                     \n",
      "29995    Zurie S Holey Rustic Olive And Cheddar Bread\n",
      "29996            Zwetschgenkuchen  Bavarian Plum Cake\n",
      "29997     Zwiebelkuchen   Southwest German Onion Cake\n",
      "29998                                     Zydeco Soup\n",
      "29999          Cookies By Design   Cookies On A Stick\n",
      "Name: name, Length: 30000, dtype: object\n"
     ]
    }
   ],
   "source": [
    "recipes['name'] = recipes['name'].str.title()\n",
    "print(recipes['name'])"
   ]
  },
  {
   "cell_type": "markdown",
   "metadata": {},
   "source": [
    "3.3 Добавьте в таблицу `recipes` столбец `name_word_count`, в котором хранится количество слов из названии рецепта (считайте, что слова в названии разделяются только пробелами). Обратите внимание, что между словами может располагаться несколько пробелов подряд."
   ]
  },
  {
   "cell_type": "code",
   "execution_count": 34,
   "metadata": {},
   "outputs": [
    {
     "name": "stdout",
     "output_type": "stream",
     "text": [
      "0        8\n",
      "1        5\n",
      "2        7\n",
      "3        3\n",
      "4        8\n",
      "        ..\n",
      "29995    8\n",
      "29996    4\n",
      "29997    5\n",
      "29998    2\n",
      "29999    7\n",
      "Name: name_word_count, Length: 30000, dtype: int64\n"
     ]
    }
   ],
   "source": [
    "recipes['name_word_count'] = recipes['name'].str.split().str.len()\n",
    "print(recipes['name_word_count'])"
   ]
  },
  {
   "cell_type": "markdown",
   "metadata": {},
   "source": [
    "### Группировки таблиц `pd.DataFrame`"
   ]
  },
  {
   "cell_type": "markdown",
   "metadata": {},
   "source": [
    "4.1 Посчитайте количество рецептов, представленных каждым из участников (`contributor_id`). Какой участник добавил максимальное кол-во рецептов?"
   ]
  },
  {
   "cell_type": "code",
   "execution_count": 35,
   "metadata": {},
   "outputs": [
    {
     "name": "stdout",
     "output_type": "stream",
     "text": [
      "                 id\n",
      "contributor_id     \n",
      "1530              5\n",
      "1533            186\n",
      "1534             50\n",
      "1535             40\n",
      "1538              8\n",
      "...             ...\n",
      "2001968497        2\n",
      "2002059754        1\n",
      "2002234079        1\n",
      "2002234259        1\n",
      "2002247884        1\n",
      "\n",
      "[8404 rows x 1 columns]\n",
      "\n",
      "89831\n"
     ]
    }
   ],
   "source": [
    "grouped = recipes[['contributor_id','id']].groupby('contributor_id').count()\n",
    "most_contributed = grouped.index[grouped['id'].argmax()]\n",
    "print(grouped, most_contributed,sep='\\n\\n')"
   ]
  },
  {
   "cell_type": "markdown",
   "metadata": {},
   "source": [
    "4.2 Посчитайте средний рейтинг к каждому из рецептов. Для скольких рецептов отсутствуют отзывы? Обратите внимание, что отзыв с нулевым рейтингом или не заполненным текстовым описанием не считается отсутствующим."
   ]
  },
  {
   "cell_type": "code",
   "execution_count": 36,
   "metadata": {},
   "outputs": [
    {
     "name": "stdout",
     "output_type": "stream",
     "text": [
      "             rating\n",
      "recipe_id          \n",
      "48         1.000000\n",
      "55         4.750000\n",
      "66         4.944444\n",
      "91         4.750000\n",
      "94         5.000000\n",
      "...             ...\n",
      "536547     5.000000\n",
      "536610     0.000000\n",
      "536728     4.000000\n",
      "536729     4.750000\n",
      "536747     0.000000\n",
      "\n",
      "[28100 rows x 1 columns]\n",
      "1900\n"
     ]
    }
   ],
   "source": [
    "mean_rating = reviews[['recipe_id','rating']].groupby('recipe_id').mean()\n",
    "\n",
    "amm = np.unique(recipes['id']).size - np.unique(reviews['recipe_id']).size\n",
    "\n",
    "print(mean_rating,amm,sep='\\n')"
   ]
  },
  {
   "cell_type": "markdown",
   "metadata": {},
   "source": [
    "4.3 Посчитайте количество рецептов с разбивкой по годам создания."
   ]
  },
  {
   "cell_type": "code",
   "execution_count": 37,
   "metadata": {},
   "outputs": [
    {
     "data": {
      "text/html": [
       "<div>\n",
       "<style scoped>\n",
       "    .dataframe tbody tr th:only-of-type {\n",
       "        vertical-align: middle;\n",
       "    }\n",
       "\n",
       "    .dataframe tbody tr th {\n",
       "        vertical-align: top;\n",
       "    }\n",
       "\n",
       "    .dataframe thead th {\n",
       "        text-align: right;\n",
       "    }\n",
       "</style>\n",
       "<table border=\"1\" class=\"dataframe\">\n",
       "  <thead>\n",
       "    <tr style=\"text-align: right;\">\n",
       "      <th></th>\n",
       "      <th>id</th>\n",
       "    </tr>\n",
       "    <tr>\n",
       "      <th>submitted</th>\n",
       "      <th></th>\n",
       "    </tr>\n",
       "  </thead>\n",
       "  <tbody>\n",
       "    <tr>\n",
       "      <th>1999-08-06</th>\n",
       "      <td>1</td>\n",
       "    </tr>\n",
       "    <tr>\n",
       "      <th>1999-08-09</th>\n",
       "      <td>4</td>\n",
       "    </tr>\n",
       "    <tr>\n",
       "      <th>1999-08-10</th>\n",
       "      <td>3</td>\n",
       "    </tr>\n",
       "    <tr>\n",
       "      <th>1999-08-11</th>\n",
       "      <td>3</td>\n",
       "    </tr>\n",
       "    <tr>\n",
       "      <th>1999-08-12</th>\n",
       "      <td>4</td>\n",
       "    </tr>\n",
       "    <tr>\n",
       "      <th>...</th>\n",
       "      <td>...</td>\n",
       "    </tr>\n",
       "    <tr>\n",
       "      <th>2018-07-25</th>\n",
       "      <td>1</td>\n",
       "    </tr>\n",
       "    <tr>\n",
       "      <th>2018-07-30</th>\n",
       "      <td>1</td>\n",
       "    </tr>\n",
       "    <tr>\n",
       "      <th>2018-07-31</th>\n",
       "      <td>1</td>\n",
       "    </tr>\n",
       "    <tr>\n",
       "      <th>2018-08-11</th>\n",
       "      <td>2</td>\n",
       "    </tr>\n",
       "    <tr>\n",
       "      <th>2018-08-15</th>\n",
       "      <td>1</td>\n",
       "    </tr>\n",
       "  </tbody>\n",
       "</table>\n",
       "<p>4032 rows × 1 columns</p>\n",
       "</div>"
      ],
      "text/plain": [
       "            id\n",
       "submitted     \n",
       "1999-08-06   1\n",
       "1999-08-09   4\n",
       "1999-08-10   3\n",
       "1999-08-11   3\n",
       "1999-08-12   4\n",
       "...         ..\n",
       "2018-07-25   1\n",
       "2018-07-30   1\n",
       "2018-07-31   1\n",
       "2018-08-11   2\n",
       "2018-08-15   1\n",
       "\n",
       "[4032 rows x 1 columns]"
      ]
     },
     "execution_count": 37,
     "metadata": {},
     "output_type": "execute_result"
    }
   ],
   "source": [
    "recipes[['id','submitted']].groupby(recipes.submitted.year).count()"
   ]
  },
  {
   "cell_type": "markdown",
   "metadata": {},
   "source": [
    "### Объединение таблиц `pd.DataFrame`"
   ]
  },
  {
   "cell_type": "markdown",
   "metadata": {},
   "source": [
    "5.1 При помощи объединения таблиц, создайте `DataFrame`, состоящий из четырех столбцов: `id`, `name`, `user_id`, `rating`. Рецепты, на которые не оставлен ни один отзыв, должны отсутствовать в полученной таблице. Подтвердите правильность работы вашего кода, выбрав рецепт, не имеющий отзывов, и попытавшись найти строку, соответствующую этому рецепту, в полученном `DataFrame`."
   ]
  },
  {
   "cell_type": "code",
   "execution_count": 38,
   "metadata": {},
   "outputs": [
    {
     "name": "stdout",
     "output_type": "stream",
     "text": [
      "                                          name      id  user_id  rating\n",
      "0        George S At The Cove  Black Bean Soup   44123   743566       5\n",
      "1        George S At The Cove  Black Bean Soup   44123    76503       5\n",
      "2        George S At The Cove  Black Bean Soup   44123    34206       5\n",
      "3           Healthy For Them  Yogurt Popsicles   67664   494084       5\n",
      "4           Healthy For Them  Yogurt Popsicles   67664   303445       5\n",
      "...                                        ...     ...      ...     ...\n",
      "126691                             Zydeco Soup  486161   305531       5\n",
      "126692                             Zydeco Soup  486161  1271506       5\n",
      "126693                             Zydeco Soup  486161   724631       5\n",
      "126694                             Zydeco Soup  486161   133174       5\n",
      "126695  Cookies By Design   Cookies On A Stick  298512   804234       1\n",
      "\n",
      "[126696 rows x 4 columns]\n"
     ]
    },
    {
     "data": {
      "text/html": [
       "<div>\n",
       "<style scoped>\n",
       "    .dataframe tbody tr th:only-of-type {\n",
       "        vertical-align: middle;\n",
       "    }\n",
       "\n",
       "    .dataframe tbody tr th {\n",
       "        vertical-align: top;\n",
       "    }\n",
       "\n",
       "    .dataframe thead th {\n",
       "        text-align: right;\n",
       "    }\n",
       "</style>\n",
       "<table border=\"1\" class=\"dataframe\">\n",
       "  <thead>\n",
       "    <tr style=\"text-align: right;\">\n",
       "      <th></th>\n",
       "      <th>name</th>\n",
       "      <th>id</th>\n",
       "      <th>user_id</th>\n",
       "      <th>rating</th>\n",
       "    </tr>\n",
       "  </thead>\n",
       "  <tbody>\n",
       "  </tbody>\n",
       "</table>\n",
       "</div>"
      ],
      "text/plain": [
       "Empty DataFrame\n",
       "Columns: [name, id, user_id, rating]\n",
       "Index: []"
      ]
     },
     "execution_count": 38,
     "metadata": {},
     "output_type": "execute_result"
    }
   ],
   "source": [
    "union_51 = pd.merge(recipes[['name','id']],reviews[['user_id','rating','recipe_id']],how = 'inner',left_on='id',right_on='recipe_id')[['name','id','user_id','rating']]\n",
    "\n",
    "print(union_51)\n",
    "\n",
    "# recipe id w/ no review: 276594\n",
    "\n",
    "union_51[union_51['id'] == 276594]"
   ]
  },
  {
   "cell_type": "markdown",
   "metadata": {},
   "source": [
    "5.2 При помощи объединения таблиц и группировок, создайте `DataFrame`, состоящий из трех столбцов: `recipe_id`, `name`, `review_count`, где столбец `review_count` содержит кол-во отзывов, оставленных на рецепт `recipe_id`. У рецептов, на которые не оставлен ни один отзыв, в столбце `review_count` должен быть указан 0. Подтвердите правильность работы вашего кода, выбрав рецепт, не имеющий отзывов, и найдя строку, соответствующую этому рецепту, в полученном `DataFrame`."
   ]
  },
  {
   "cell_type": "code",
   "execution_count": 48,
   "metadata": {},
   "outputs": [
    {
     "name": "stdout",
     "output_type": "stream",
     "text": [
      "0          7.0\n",
      "1          8.0\n",
      "2          6.0\n",
      "3        208.0\n",
      "4          5.0\n",
      "         ...  \n",
      "29995      3.0\n",
      "29996      8.0\n",
      "29997      2.0\n",
      "29998      7.0\n",
      "29999     12.0\n",
      "Name: review_count, Length: 30000, dtype: float64\n",
      "      recipe_id                               name  review_count\n",
      "5000     276594  Windy S  Sweet And Sour Meatballs           0.0\n"
     ]
    }
   ],
   "source": [
    "union_52 = pd.merge(recipes[['id','name']],reviews[['recipe_id','review']].groupby('recipe_id').count(),how = 'left',left_on='id',right_on='recipe_id').fillna(0)\n",
    "union_52.columns = ['recipe_id','name','review_count']\n",
    "\n",
    "print(union_52['review_count'])\n",
    "\n",
    "# recipe id w/ no review: 276594\n",
    "\n",
    "print(union_52[union_52['recipe_id'] == 276594])"
   ]
  },
  {
   "cell_type": "markdown",
   "metadata": {},
   "source": [
    "5.3. Выясните, рецепты, добавленные в каком году, имеют наименьший средний рейтинг?"
   ]
  },
  {
   "cell_type": "code",
   "execution_count": 49,
   "metadata": {},
   "outputs": [
    {
     "data": {
      "text/plain": [
       "1999"
      ]
     },
     "execution_count": 49,
     "metadata": {},
     "output_type": "execute_result"
    }
   ],
   "source": [
    "yearly_rating = pd.merge(recipes[['id','submitted']],reviews[['recipe_id','rating']],how='inner',left_on='id',right_on='recipe_id')[['submitted','rating']].groupby(recipes).mean()\n",
    "\n",
    "\n",
    "yearly_rating.index[yearly_rating['rating'].argmin()]"
   ]
  },
  {
   "cell_type": "markdown",
   "metadata": {},
   "source": [
    "### Сохранение таблиц `pd.DataFrame`"
   ]
  },
  {
   "cell_type": "markdown",
   "metadata": {},
   "source": [
    "6.1 Отсортируйте таблицу в порядке убывания величины столбца `name_word_count` и сохраните результаты выполнения заданий 3.1-3.3 в csv файл. "
   ]
  },
  {
   "cell_type": "code",
   "execution_count": 50,
   "metadata": {},
   "outputs": [],
   "source": [
    "recipes = recipes.sort_values(by=['name_word_count'],ascending=False)\n",
    "recipes.to_csv(\"data/6_1_result.csv\")\n",
    "# pd.to_excel(recipes)"
   ]
  },
  {
   "cell_type": "markdown",
   "metadata": {},
   "source": [
    "6.2 Воспользовавшись `pd.ExcelWriter`, cохраните результаты 5.1 и 5.2 в файл: на лист с названием `Рецепты с оценками` сохраните результаты выполнения 5.1; на лист с названием `Количество отзывов по рецептам` сохраните результаты выполнения 5.2."
   ]
  },
  {
   "cell_type": "code",
   "execution_count": 52,
   "metadata": {},
   "outputs": [],
   "source": [
    "with pd.ExcelWriter(\"data/6_2_result.xlsx\") as writer:\n",
    "    union_51.to_excel(writer,sheet_name=\"Рецепты с оценками\")\n",
    "    union_52.to_excel(writer,sheet_name=\"Количество отзывов по рецептам\")\n"
   ]
  },
  {
   "cell_type": "markdown",
   "metadata": {},
   "source": [
    "#### [версия 2]\n",
    "* Уточнены формулировки задач 1.1, 3.3, 4.2, 5.1, 5.2, 5.3"
   ]
  },
  {
   "cell_type": "code",
   "execution_count": null,
   "metadata": {},
   "outputs": [],
   "source": []
  }
 ],
 "metadata": {
  "kernelspec": {
   "display_name": "Python 3 (ipykernel)",
   "language": "python",
   "name": "python3"
  },
  "language_info": {
   "codemirror_mode": {
    "name": "ipython",
    "version": 3
   },
   "file_extension": ".py",
   "mimetype": "text/x-python",
   "name": "python",
   "nbconvert_exporter": "python",
   "pygments_lexer": "ipython3",
   "version": "3.9.0"
  }
 },
 "nbformat": 4,
 "nbformat_minor": 4
}
